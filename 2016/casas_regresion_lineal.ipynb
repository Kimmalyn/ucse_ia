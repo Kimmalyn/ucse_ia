{
 "cells": [
  {
   "cell_type": "markdown",
   "metadata": {},
   "source": [
    "Instrucciones\n",
    "=============\n",
    "\n",
    "1. Instalar ipython notebook\n",
    "----------------------------\n",
    "\n",
    "Ipython notebook es lo que usamos para crear y ejecutar estos \"documentos con código\" (notebooks). Lo instalamos usando pip:\n",
    "\n",
    "    pip install \"ipython[notebook]\"\n",
    "    \n",
    "(con ``sudo`` antes, para los que están en linux y no están usando virtualenvs)\n",
    "\n",
    "\n",
    "2. Instalar libs\n",
    "----------------\n",
    "\n",
    "Además vamos a estar usando varias libs útiles, que se instalan también con pip:\n",
    "\n",
    "    pip install scikit-learn scipy pandas matplotlib seaborn\n",
    "    \n",
    "\n",
    "3. Abrir este notebook\n",
    "----------------------\n",
    "\n",
    "Bajen el archivo ``casas_regresion_lineal.ipynb`` del repo, luego abran una consola, ingresen al directorio donde se encuentra el archivo, y ejecuten:\n",
    "\n",
    "    ipython notebook\n",
    "  \n",
    "Esto les va a abrir una ventana del navegador web, donde pueden ver la lista de archivos del directorio, y entre esos archivos van a ver el notebook que se bajaron. Háganle click para abrirlo.\n",
    "  \n",
    "\n",
    "4. Uso del notebook\n",
    "-------------------\n",
    "\n",
    "La interfaz es bastante sencilla. Algunas cosas básicas que les pueden resultar útiles:\n",
    "\n",
    " * Para modificar el texto de una celda, háganle ``click`` o ``doble click``.\n",
    "\n",
    " * Para ejecutar una celda sola de forma rápida, usen ``shift+enter`` (en las de código, ejecuta el código, en las de texto, lo renderiza)\n",
    " \n",
    " * Pueden ejecutar todas las veces que quieran las celdas, en el orden que prefieran, etc. (pero claramente, para arrancar ejecuten las celdas en orden)\n",
    "\n",
    "Pueden experimentar con el resto de las cosas que ven en la interfaz :)"
   ]
  },
  {
   "cell_type": "markdown",
   "metadata": {},
   "source": [
    "Código\n",
    "======\n",
    "\n",
    "Primero, imports de las cosas que usamos:"
   ]
  },
  {
   "cell_type": "code",
   "execution_count": 16,
   "metadata": {
    "collapsed": false
   },
   "outputs": [],
   "source": [
    "# la lib que usamos para leer y trabajar con datos\n",
    "import pandas as pd\n",
    "\n",
    "# la lib que usamos para graficar\n",
    "import matplotlib.pyplot as plt\n",
    "# y una lib que hace que esos graficos se vean mas lindos\n",
    "import seaborn\n",
    "\n",
    "# la lib que usamos para machine learning\n",
    "from sklearn.linear_model import LinearRegression\n",
    "from sklearn.metrics import mean_absolute_error, mean_squared_error\n",
    "from sklearn.cross_validation import train_test_split\n",
    "\n",
    "# le decimos al notebook que muestre los graficos solo\n",
    "%matplotlib inline\n",
    "\n",
    "# tamaño por default para los graficos\n",
    "plt.rcParams['figure.figsize'] = (10, 5)"
   ]
  },
  {
   "cell_type": "markdown",
   "metadata": {},
   "source": [
    "Los datos\n",
    "=========\n",
    "\n",
    "Ahora podemos leer los datos del archivo csv con información de las casas. Para eso, recuerden bajar también el archivo ``casas.csv`` y ubicarlo en el mismo directorio que el notebook. Pueden bajarlo ahora, si recién se dieron cuenta, no hace falta \"reiniciar\" nada, solo vuelvan a correr esta celda :)"
   ]
  },
  {
   "cell_type": "code",
   "execution_count": 17,
   "metadata": {
    "collapsed": false
   },
   "outputs": [
    {
     "name": "stdout",
     "output_type": "stream",
     "text": [
      "Hay datos de 100 casas\n"
     ]
    }
   ],
   "source": [
    "datos = pd.read_csv('casas.csv')\n",
    "\n",
    "print 'Hay datos de', len(datos), 'casas'"
   ]
  },
  {
   "cell_type": "markdown",
   "metadata": {},
   "source": [
    "Mostramos un poco de los datos, para darnos una idea de cómo se ven (.head() muestra solo las 5 primeros filas):"
   ]
  },
  {
   "cell_type": "code",
   "execution_count": 18,
   "metadata": {
    "collapsed": false
   },
   "outputs": [
    {
     "data": {
      "text/html": [
       "<div>\n",
       "<table border=\"1\" class=\"dataframe\">\n",
       "  <thead>\n",
       "    <tr style=\"text-align: right;\">\n",
       "      <th></th>\n",
       "      <th>metros</th>\n",
       "      <th>habitaciones</th>\n",
       "      <th>edad</th>\n",
       "      <th>precio</th>\n",
       "    </tr>\n",
       "  </thead>\n",
       "  <tbody>\n",
       "    <tr>\n",
       "      <th>0</th>\n",
       "      <td>219</td>\n",
       "      <td>10</td>\n",
       "      <td>64</td>\n",
       "      <td>451214</td>\n",
       "    </tr>\n",
       "    <tr>\n",
       "      <th>1</th>\n",
       "      <td>391</td>\n",
       "      <td>4</td>\n",
       "      <td>23</td>\n",
       "      <td>609465</td>\n",
       "    </tr>\n",
       "    <tr>\n",
       "      <th>2</th>\n",
       "      <td>267</td>\n",
       "      <td>7</td>\n",
       "      <td>26</td>\n",
       "      <td>472804</td>\n",
       "    </tr>\n",
       "    <tr>\n",
       "      <th>3</th>\n",
       "      <td>253</td>\n",
       "      <td>10</td>\n",
       "      <td>70</td>\n",
       "      <td>484586</td>\n",
       "    </tr>\n",
       "    <tr>\n",
       "      <th>4</th>\n",
       "      <td>282</td>\n",
       "      <td>7</td>\n",
       "      <td>5</td>\n",
       "      <td>573344</td>\n",
       "    </tr>\n",
       "  </tbody>\n",
       "</table>\n",
       "</div>"
      ],
      "text/plain": [
       "   metros  habitaciones  edad  precio\n",
       "0     219            10    64  451214\n",
       "1     391             4    23  609465\n",
       "2     267             7    26  472804\n",
       "3     253            10    70  484586\n",
       "4     282             7     5  573344"
      ]
     },
     "execution_count": 18,
     "metadata": {},
     "output_type": "execute_result"
    }
   ],
   "source": [
    "datos.head()"
   ]
  },
  {
   "cell_type": "markdown",
   "metadata": {},
   "source": [
    "Parecen ajustarse a una recta si miramos precio respecto a cantidad de habitaciones? No:"
   ]
  },
  {
   "cell_type": "code",
   "execution_count": 19,
   "metadata": {
    "collapsed": false
   },
   "outputs": [
    {
     "data": {
      "text/plain": [
       "<matplotlib.collections.PathCollection at 0x7fb27dd73890>"
      ]
     },
     "execution_count": 19,
     "metadata": {},
     "output_type": "execute_result"
    },
    {
     "data": {
      "image/png": "[encoded data removed]",
      "text/plain": [
       "<matplotlib.figure.Figure at 0x7fb27de52bd0>"
      ]
     },
     "metadata": {},
     "output_type": "display_data"
    }
   ],
   "source": [
    "plt.scatter(x=datos.habitaciones, y=datos.precio)"
   ]
  },
  {
   "cell_type": "markdown",
   "metadata": {},
   "source": [
    "Y si miramos precio respecto a metros cuadrados? Ahora sí:"
   ]
  },
  {
   "cell_type": "code",
   "execution_count": 20,
   "metadata": {
    "collapsed": false
   },
   "outputs": [
    {
     "data": {
      "text/plain": [
       "<matplotlib.collections.PathCollection at 0x7fb27dcae1d0>"
      ]
     },
     "execution_count": 20,
     "metadata": {},
     "output_type": "execute_result"
    },
    {
     "data": {
      "image/png": "[encoded data removed]",
      "text/plain": [
       "<matplotlib.figure.Figure at 0x7fb27ddb2510>"
      ]
     },
     "metadata": {},
     "output_type": "display_data"
    }
   ],
   "source": [
    "plt.scatter(x=datos.metros, y=datos.precio)"
   ]
  },
  {
   "cell_type": "markdown",
   "metadata": {},
   "source": [
    "El predictor\n",
    "============\n",
    "\n",
    "Como vimos en clases, es buena práctica (y necesaria casi siempre) separar los datos en dos conjuntos, uno para entrenar y otro para testear. Hacemos eso:"
   ]
  },
  {
   "cell_type": "code",
   "execution_count": 21,
   "metadata": {
    "collapsed": true
   },
   "outputs": [],
   "source": [
    "entrenamiento, test = train_test_split(datos, test_size=0.1)"
   ]
  },
  {
   "cell_type": "markdown",
   "metadata": {},
   "source": [
    "Ahora creamos un predictor que use regresión lineal, y lo entrenamos con nuestros datos de entrenamiento, para que aprenda la función (recta) que mejor se ajuste a los datos. Nuestras columnas de entrada van a ser los metros cuadrados, cantidad de habitaciones y años de antigüedad de las casas, mientras que nuestras salidas (lo que queremos predecir) van a ser los precios."
   ]
  },
  {
   "cell_type": "code",
   "execution_count": 22,
   "metadata": {
    "collapsed": false
   },
   "outputs": [
    {
     "data": {
      "text/plain": [
       "LinearRegression(copy_X=True, fit_intercept=True, n_jobs=1, normalize=False)"
      ]
     },
     "execution_count": 22,
     "metadata": {},
     "output_type": "execute_result"
    }
   ],
   "source": [
    "columnas_entrada = ['metros', 'habitaciones', 'edad']\n",
    "\n",
    "modelo = LinearRegression()\n",
    "\n",
    "modelo.fit(X=entrenamiento[columnas_entrada],\n",
    "           y=entrenamiento.precio)"
   ]
  },
  {
   "cell_type": "markdown",
   "metadata": {},
   "source": [
    "Y ahora con nuestro modelo entrenado, podemos intentar predicciones sobre distintas casas.\n",
    "\n",
    "Sobre las que usamos para entrenar:"
   ]
  },
  {
   "cell_type": "code",
   "execution_count": 23,
   "metadata": {
    "collapsed": false
   },
   "outputs": [
    {
     "data": {
      "text/plain": [
       "array([ 487858.98706104,  454339.60358681,  483179.79994877,\n",
       "        616045.43792024,  334919.39533301,  574892.59811422,\n",
       "        598756.24045807,  447850.65780855,  606774.70907291,\n",
       "        587063.82900621,  519588.72851352,  538739.22123208,\n",
       "        482876.88288533,  547520.16134269,  459507.28479842,\n",
       "        450033.62016703,  284044.79563022,  428953.35516954,\n",
       "        550190.77850655,  258790.0574341 ,  391157.38328595,\n",
       "        618550.81002166,  506885.43831815,  506844.54669952,\n",
       "        337086.28123824,  375308.69667758,  345457.39390041,\n",
       "        502484.26879328,  451866.06006705,  344990.07106849,\n",
       "        304870.79124002,  566359.21361491,  577777.87534205,\n",
       "        484629.90115114,  558221.49871291,  290016.37961031,\n",
       "        484944.85447685,  426319.14643238,  545000.63139013,\n",
       "        453421.77701706,  560826.8520937 ,  520862.38768514,\n",
       "        539736.46943604,  350720.48888883,  411094.19235312,\n",
       "        553998.13782435,  414593.83943319,  391045.3657443 ,\n",
       "        409584.16219603,  474306.334976  ,  507324.43310532,\n",
       "        364091.90376883,  346620.64215012,  599916.82746484,\n",
       "        478550.56749209,  419526.21662502,  279069.08090606,\n",
       "        589069.51003997,  304039.32775257,  437027.94021983,\n",
       "        498875.80506857,  390642.99471309,  301046.82815738,\n",
       "        570441.70160546,  366939.49027504,  362444.20161075,\n",
       "        351147.98706779,  521893.5984021 ,  316135.70451292,\n",
       "        516445.99334345,  521865.49802906,  559204.04941165,\n",
       "        323839.21980205,  471873.15576328,  281117.7874898 ,\n",
       "        541983.00464719,  482278.27750397,  498863.2414947 ,\n",
       "        403235.33433247,  390578.04291238,  475397.9299911 ,\n",
       "        405813.42663418,  340365.09413203,  464536.45471508,\n",
       "        427004.10255358,  513575.94093244,  415277.72858872,\n",
       "        501923.35413354,  309298.15487831,  520260.05409517])"
      ]
     },
     "execution_count": 23,
     "metadata": {},
     "output_type": "execute_result"
    }
   ],
   "source": [
    "modelo.predict(entrenamiento[columnas_entrada])"
   ]
  },
  {
   "cell_type": "markdown",
   "metadata": {},
   "source": [
    "Sobre las que reservamos para test:"
   ]
  },
  {
   "cell_type": "code",
   "execution_count": 24,
   "metadata": {
    "collapsed": false
   },
   "outputs": [
    {
     "data": {
      "text/plain": [
       "array([ 463509.8115007 ,  485791.01546952,  414298.15111527,\n",
       "        323449.41234471,  358418.66934961,  516674.05627526,\n",
       "        436774.52246857,  430721.38292293,  366282.86219861,\n",
       "        456558.12273556])"
      ]
     },
     "execution_count": 24,
     "metadata": {},
     "output_type": "execute_result"
    }
   ],
   "source": [
    "modelo.predict(test[columnas_entrada])"
   ]
  },
  {
   "cell_type": "markdown",
   "metadata": {},
   "source": [
    "O incluso otras casas nuevas que veamos por ahí:"
   ]
  },
  {
   "cell_type": "code",
   "execution_count": 26,
   "metadata": {
    "collapsed": false
   },
   "outputs": [
    {
     "data": {
      "text/plain": [
       "array([ 463489.47952724,  273103.89872   ,  703537.75176933])"
      ]
     },
     "execution_count": 26,
     "metadata": {},
     "output_type": "execute_result"
    }
   ],
   "source": [
    "nuevas_casas = pd.DataFrame(\n",
    "    [   # metros, habitaciones, edad\n",
    "        [250, 10, 20],\n",
    "        [50, 2, 1],\n",
    "        [500, 20, 10],\n",
    "    ],\n",
    "    columns=columnas_entrada\n",
    ")\n",
    "\n",
    "modelo.predict(nuevas_casas[columnas_entrada])"
   ]
  },
  {
   "cell_type": "markdown",
   "metadata": {},
   "source": [
    "Evaluación\n",
    "==========\n",
    "\n",
    "Qué tan bien predice? Podemos medir el error en los distintos conjuntos de datos:"
   ]
  },
  {
   "cell_type": "code",
   "execution_count": 29,
   "metadata": {
    "collapsed": false
   },
   "outputs": [
    {
     "name": "stdout",
     "output_type": "stream",
     "text": [
      "Error promedio en datos de entrenamiento:\n",
      "23237.8392116\n",
      "Error promedio en datos de test:\n",
      "23880.6968598\n"
     ]
    }
   ],
   "source": [
    "print \"Error promedio en datos de entrenamiento:\"\n",
    "print mean_absolute_error(entrenamiento.precio,\n",
    "                          modelo.predict(entrenamiento[columnas_entrada]))\n",
    "\n",
    "print \"Error promedio en datos de test:\"\n",
    "print mean_absolute_error(test.precio,\n",
    "                          modelo.predict(test[columnas_entrada]))"
   ]
  },
  {
   "cell_type": "markdown",
   "metadata": {},
   "source": [
    "Incluso podemos graficar las casas que usamos, comparando sus precios reales (azules) con los precios que predice nuestro predictor (verdes):"
   ]
  },
  {
   "cell_type": "code",
   "execution_count": 30,
   "metadata": {
    "collapsed": false
   },
   "outputs": [
    {
     "data": {
      "text/plain": [
       "<matplotlib.collections.PathCollection at 0x7fb27d958b50>"
      ]
     },
     "execution_count": 30,
     "metadata": {},
     "output_type": "execute_result"
    },
    {
     "data": {
      "image/png": "[encoded data removed]",
      "text/plain": [
       "<matplotlib.figure.Figure at 0x7fb27dc463d0>"
      ]
     },
     "metadata": {},
     "output_type": "display_data"
    }
   ],
   "source": [
    "plt.scatter(x=entrenamiento.metros, y=entrenamiento.precio, c='b')\n",
    "plt.scatter(x=entrenamiento.metros, y=modelo.predict(entrenamiento[columnas_entrada]), c='g')"
   ]
  },
  {
   "cell_type": "code",
   "execution_count": 31,
   "metadata": {
    "collapsed": false
   },
   "outputs": [
    {
     "data": {
      "text/plain": [
       "<matplotlib.collections.PathCollection at 0x7fb27d8a1b50>"
      ]
     },
     "execution_count": 31,
     "metadata": {},
     "output_type": "execute_result"
    },
    {
     "data": {
      "image/png": "[encoded data removed]",
      "text/plain": [
       "<matplotlib.figure.Figure at 0x7fb27d99a290>"
      ]
     },
     "metadata": {},
     "output_type": "display_data"
    }
   ],
   "source": [
    "plt.scatter(x=test.metros, y=test.precio, c='b')\n",
    "plt.scatter(x=test.metros, y=modelo.predict(test[columnas_entrada]), c='g')"
   ]
  },
  {
   "cell_type": "code",
   "execution_count": null,
   "metadata": {
    "collapsed": true
   },
   "outputs": [],
   "source": []
  }
 ],
 "metadata": {
  "kernelspec": {
   "display_name": "Python 3",
   "language": "python",
   "name": "python3"
  },
  "language_info": {
   "codemirror_mode": {
    "name": "ipython",
    "version": 3
   },
   "file_extension": ".py",
   "mimetype": "text/x-python",
   "name": "python",
   "nbconvert_exporter": "python",
   "pygments_lexer": "ipython3",
   "version": "3.5.2"
  }
 },
 "nbformat": 4,
 "nbformat_minor": 1
}
