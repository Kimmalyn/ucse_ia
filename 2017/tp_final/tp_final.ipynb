{
 "cells": [
  {
   "cell_type": "markdown",
   "metadata": {
    "deletable": true,
    "editable": true
   },
   "source": [
    "Instrucciones\n",
    "=============\n",
    "\n",
    "1. Instalar ipython notebook\n",
    "----------------------------\n",
    "\n",
    "Ipython notebook es lo que usamos para crear y ejecutar estos \"documentos con código\" (notebooks). Lo instalamos usando pip:\n",
    "\n",
    "    pip install \"ipython[notebook]\"\n",
    "    \n",
    "(con ``sudo`` antes, para los que están en linux y no están usando virtualenvs)\n",
    "\n",
    "\n",
    "2. Instalar libs\n",
    "----------------\n",
    "\n",
    "Además vamos a estar usando varias libs útiles, que se instalan también con pip:\n",
    "\n",
    "    pip install scikit-learn scipy pandas matplotlib keras tensorflow h5py\n",
    "    \n",
    "\n",
    "3. Abrir este notebook\n",
    "----------------------\n",
    "\n",
    "Bajen los archivos ``tp_final.ipynb`` y ``utils.py`` del repo (directorio ``2017/tp_final``), luego abran una consola, ingresen al directorio donde se encuentran los archivos, y ejecuten:\n",
    "\n",
    "    ipython notebook\n",
    "  \n",
    "Esto les va a abrir una ventana del navegador web, donde pueden ver la lista de archivos del directorio, y entre esos archivos van a ver el notebook que se bajaron. Háganle click para abrirlo.\n",
    "\n",
    "4. Uso del notebook\n",
    "-------------------\n",
    "\n",
    "La interfaz es bastante sencilla. Algunas cosas básicas que les pueden resultar útiles:\n",
    "\n",
    " * Para modificar el texto de una celda, háganle ``click`` o ``doble click``.\n",
    "\n",
    " * Para ejecutar una celda sola de forma rápida, usen ``shift+enter`` (en las de código, ejecuta el código, en las de texto, lo renderiza). \n",
    " \n",
    " * Mientras el código se está ejecutando, al lado de la celda van a ver un ``[*]``. Eso significa que la celda aún se está ejecutando. Cuando ven un número (ej: ``[42]``), significa que ya terminó de ejecutarse (y el número es el orden en el cual esa celda fue ejecutada).\n",
    " \n",
    " * Pueden ejecutar todas las veces que quieran las celdas, en el orden que prefieran, etc. (pero claramente, para arrancar conviene ejecutar las celdas en orden)\n",
    "\n",
    "Pueden experimentar con el resto de las cosas que ven en la interfaz :)\n",
    "    \n",
    "Consigna\n",
    "========\n",
    "\n",
    "¿Qué tan buenos somos para reconocer personas?. Casi todos podríamos decir que lo hacemos muy bien, sin embargo ...\n",
    "\n",
    "<img src=\"https://k42.kn3.net/6/F/2/E/B/C/EC0.jpg\" width=\"50%\" />\n",
    "\n",
    "<center>¿Luca Modric o David Guetta?</center>\n",
    "\n",
    "<img src=\"http://www.oddities123.com/wp-content/uploads/2016/02/similar-looking-people-7.jpg\" width=\"50%\" />\n",
    "\n",
    "<center>¿Jack Nicholson o Leonardo Dicaprio?</center>\n",
    "\n",
    "<img src=\"http://1.bp.blogspot.com/_BQ05SdY_Qk0/SmoUY1TVaeI/AAAAAAAAAUE/NwiqQgpb_Dg/s400/Fabio+Posca+-+Bob+Pati%C3%B1o.jpg\" width=\"50%\" />\n",
    "\n",
    "<div>\n",
    "\n",
    "<img src=\"https://i.imgur.com/0ppqBFz.jpg\" width=\"25%\" />\n",
    "<img src=\"https://lh6.googleusercontent.com/-60b0uUWJlhA/AAAAAAAAAAI/AAAAAAAAt4E/BHc54O2XIqs/photo.jpg\" width=\"25%\" />\n",
    "\n",
    "</div>\n",
    "\n",
    "<center>¿Fisa o guerrero medieval?</center>\n",
    "\n",
    "-----------\n",
    "\n",
    "Como queda claro, a veces la cosa se puede complicar y no resulta tan sencillo :) Y si quisieramos programar algo a mano que sepa resolver esta tarea? Sería prácticamente imposible.\n",
    "\n",
    "En este trabajo práctico vamos a utilizar redes neuronales para intentar ayudar a una máquina con esta tarea. Claro, como la máquina es la primera vez que se encuentra con este problema nos vamos a guardar los parecidos para más adelante y vamos a empezar a enseñarle a reconocer a algunos de los profes de la cátedra usando redes neuronales!\n",
    "\n",
    "Para poder hacer esto, tenemos un conjunto de datos de datos que contiene 4920 imágenes clasificadas de ariel, fisa, gabi y mariano. En cada uno de estos casos tenemos la certeza (etiqueta) de quién es el que figura en la imagen. Vamos a usar este set de datos para entrenar el modelo y ver qué tan bien le está yendo a la hora de clasificar personas.\n",
    "\n",
    "En clases vamos a ver cómo construir una red neuronal básica, y en este notebook ya tienen el código necesario para leer los datos, mostrar las imágenes, y evaluar la exactitud de la red.\n",
    "El trabajo de ustedes consistirá en escribir el fragmento de código que construye y entrena la red neuronal, de forma tal que las métricas indiquen un 70% o más de accuracy en el conjunto de **test**.\n",
    "\n",
    "Como el resultado no es el mismo si corren varias veces el código, lo que deben lograr es una red que en **al menos 3 de 5 ejecuciones**, logre 70% o más de accuracy.\n",
    "No es válido entregar código que alguna vez tuvimos suerte y llegó al 70%, pero que habitualmente no lo alcanza.\n",
    "\n",
    "La entrega se realizará subiendo el archivo ``tp_final.ipynb`` modificado por ustedes, a la **raiz** del repositorio del grupo."
   ]
  },
  {
   "cell_type": "markdown",
   "metadata": {
    "deletable": true,
    "editable": true
   },
   "source": [
    "# Imports y configs"
   ]
  },
  {
   "cell_type": "code",
   "execution_count": 1,
   "metadata": {
    "collapsed": false,
    "deletable": true,
    "editable": true
   },
   "outputs": [
    {
     "name": "stderr",
     "output_type": "stream",
     "text": [
      "Using TensorFlow backend.\n"
     ]
    }
   ],
   "source": [
    "# imports de libs que usamos para leer y procesar datos en masa\n",
    "import os\n",
    "\n",
    "import numpy as np\n",
    "import pandas as pd\n",
    "\n",
    "# lib que usamos para mostrar las imágenes\n",
    "import matplotlib.pyplot as plt\n",
    "\n",
    "# libs que usamos para tareas generales de machine learning: separar conjuntos de datos, evaluar exactitud, etc\n",
    "from sklearn.model_selection import train_test_split\n",
    "from sklearn.metrics import classification_report, accuracy_score\n",
    "\n",
    "# libs que usamos para construir y entrenar redes neuronales\n",
    "from keras.models import Sequential\n",
    "from keras.layers import Dense, Activation, Input, Dropout, Convolution2D, MaxPooling2D, Flatten\n",
    "\n",
    "# cosas que definimos en nuestro proyecto\n",
    "from utils import get_input_columns\n",
    "\n",
    "# configuración para que las imágenes se vean dentro del notebook\n",
    "%matplotlib inline"
   ]
  },
  {
   "cell_type": "code",
   "execution_count": 2,
   "metadata": {
    "collapsed": true,
    "deletable": true,
    "editable": true
   },
   "outputs": [],
   "source": [
    "# algunas configuraciones generales respecto a las imagenes\n",
    "PICTURE_SIZE = 64\n",
    "CHANNELS = 'rgb'\n",
    "INPUT_COLUMNS = get_input_columns(PICTURE_SIZE)"
   ]
  },
  {
   "cell_type": "markdown",
   "metadata": {
    "deletable": true,
    "editable": true
   },
   "source": [
    "Datos\n",
    "=====\n",
    "\n",
    "Leemos todas las imágenes que están guardadas en un solo archivo y mostramos 5 filas de ejemplo. Para que esto funcione, deben bajar el archivo ``data_64x64.pkl`` desde [este link](https://drive.google.com/drive/folders/0B5cCDhynqkqDczZDd3JTSENFcDg?usp=sharing) y ubicarlo en el mismo directorio que el notebook (en el link los archivos están comprimidos, así que van a tener que extraerlos después de bajarlos).\n",
    "\n",
    "Cada fila es una imagen. Cada imagen tiene muchos pixeles. Y cada pixel tiene 3 valores: cuánto de rojo, cuánto de verde y cuánto de azul (estos son \"canales\" de color).\n",
    "\n",
    "Eso quiere decir que si la imagen tiene 64 x 64 pixeles, y cada pixel tiene 3 valores, entonces tenemos 64 x 64 x 3 = 12.288 columnas.\n",
    "\n",
    "Luego tenemos 3 columnas más que no son pixeles: \n",
    "\n",
    "- 'person': indica que persona está en la foto, o dicho técnicamente, la etiqueta para ese caso (ariel, fisa, gabi o mariano)\n",
    "- 'file': el nombre de la imagen original (para uso interno nuestro)\n",
    "- 'place': el lugar donde fue tomado el video (nos sirve para separar sets de imágenes)\n",
    "\n",
    "En el link donde está el dataset también les dejamos imágenes en menor resolución (24x24 y 32x32), por si les demora demasiado y quieren intentar con sets más livianos. Si van a usar otro dataset y no el de 64x64, recuerden actualizar la setting ``PICTURE_SIZE``."
   ]
  },
  {
   "cell_type": "code",
   "execution_count": 3,
   "metadata": {
    "collapsed": false,
    "deletable": true,
    "editable": true
   },
   "outputs": [
    {
     "name": "stdout",
     "output_type": "stream",
     "text": [
      "reading data...\n"
     ]
    },
    {
     "data": {
      "text/plain": [
       "(4920, 12291)"
      ]
     },
     "execution_count": 3,
     "metadata": {},
     "output_type": "execute_result"
    }
   ],
   "source": [
    "print('reading data...')\n",
    "data = pd.read_pickle('./data_{}x{}.pkl'.format(PICTURE_SIZE, PICTURE_SIZE))\n",
    "data.shape"
   ]
  },
  {
   "cell_type": "code",
   "execution_count": 4,
   "metadata": {
    "collapsed": false,
    "deletable": true,
    "editable": true
   },
   "outputs": [
    {
     "data": {
      "text/html": [
       "<div>\n",
       "<style>\n",
       "    .dataframe thead tr:only-child th {\n",
       "        text-align: right;\n",
       "    }\n",
       "\n",
       "    .dataframe thead th {\n",
       "        text-align: left;\n",
       "    }\n",
       "\n",
       "    .dataframe tbody tr th {\n",
       "        vertical-align: top;\n",
       "    }\n",
       "</style>\n",
       "<table border=\"1\" class=\"dataframe\">\n",
       "  <thead>\n",
       "    <tr style=\"text-align: right;\">\n",
       "      <th></th>\n",
       "      <th>r0</th>\n",
       "      <th>r1</th>\n",
       "      <th>r2</th>\n",
       "      <th>r3</th>\n",
       "      <th>r4</th>\n",
       "      <th>r5</th>\n",
       "      <th>r6</th>\n",
       "      <th>r7</th>\n",
       "      <th>r8</th>\n",
       "      <th>r9</th>\n",
       "      <th>...</th>\n",
       "      <th>b4089</th>\n",
       "      <th>b4090</th>\n",
       "      <th>b4091</th>\n",
       "      <th>b4092</th>\n",
       "      <th>b4093</th>\n",
       "      <th>b4094</th>\n",
       "      <th>b4095</th>\n",
       "      <th>file</th>\n",
       "      <th>person</th>\n",
       "      <th>place</th>\n",
       "    </tr>\n",
       "  </thead>\n",
       "  <tbody>\n",
       "    <tr>\n",
       "      <th>2100</th>\n",
       "      <td>182</td>\n",
       "      <td>183</td>\n",
       "      <td>183</td>\n",
       "      <td>183</td>\n",
       "      <td>183</td>\n",
       "      <td>183</td>\n",
       "      <td>183</td>\n",
       "      <td>183</td>\n",
       "      <td>184</td>\n",
       "      <td>184</td>\n",
       "      <td>...</td>\n",
       "      <td>26</td>\n",
       "      <td>26</td>\n",
       "      <td>27</td>\n",
       "      <td>27</td>\n",
       "      <td>32</td>\n",
       "      <td>33</td>\n",
       "      <td>113</td>\n",
       "      <td>fisa_pared_mp4_128.jpg</td>\n",
       "      <td>fisa</td>\n",
       "      <td>pared</td>\n",
       "    </tr>\n",
       "    <tr>\n",
       "      <th>2953</th>\n",
       "      <td>142</td>\n",
       "      <td>139</td>\n",
       "      <td>135</td>\n",
       "      <td>139</td>\n",
       "      <td>142</td>\n",
       "      <td>141</td>\n",
       "      <td>144</td>\n",
       "      <td>145</td>\n",
       "      <td>143</td>\n",
       "      <td>142</td>\n",
       "      <td>...</td>\n",
       "      <td>40</td>\n",
       "      <td>43</td>\n",
       "      <td>104</td>\n",
       "      <td>136</td>\n",
       "      <td>135</td>\n",
       "      <td>142</td>\n",
       "      <td>145</td>\n",
       "      <td>gabi_cortina_mp4_076.jpg</td>\n",
       "      <td>gabi</td>\n",
       "      <td>cortina</td>\n",
       "    </tr>\n",
       "    <tr>\n",
       "      <th>4879</th>\n",
       "      <td>126</td>\n",
       "      <td>130</td>\n",
       "      <td>133</td>\n",
       "      <td>136</td>\n",
       "      <td>139</td>\n",
       "      <td>144</td>\n",
       "      <td>149</td>\n",
       "      <td>153</td>\n",
       "      <td>158</td>\n",
       "      <td>161</td>\n",
       "      <td>...</td>\n",
       "      <td>22</td>\n",
       "      <td>22</td>\n",
       "      <td>23</td>\n",
       "      <td>25</td>\n",
       "      <td>26</td>\n",
       "      <td>31</td>\n",
       "      <td>34</td>\n",
       "      <td>mariano_pared_mp4_528.jpg</td>\n",
       "      <td>mariano</td>\n",
       "      <td>pared</td>\n",
       "    </tr>\n",
       "    <tr>\n",
       "      <th>315</th>\n",
       "      <td>137</td>\n",
       "      <td>138</td>\n",
       "      <td>138</td>\n",
       "      <td>139</td>\n",
       "      <td>139</td>\n",
       "      <td>139</td>\n",
       "      <td>140</td>\n",
       "      <td>141</td>\n",
       "      <td>142</td>\n",
       "      <td>142</td>\n",
       "      <td>...</td>\n",
       "      <td>7</td>\n",
       "      <td>5</td>\n",
       "      <td>6</td>\n",
       "      <td>11</td>\n",
       "      <td>7</td>\n",
       "      <td>7</td>\n",
       "      <td>145</td>\n",
       "      <td>ariel_aula_mp4_316.jpg</td>\n",
       "      <td>ariel</td>\n",
       "      <td>aula</td>\n",
       "    </tr>\n",
       "    <tr>\n",
       "      <th>1466</th>\n",
       "      <td>107</td>\n",
       "      <td>111</td>\n",
       "      <td>112</td>\n",
       "      <td>115</td>\n",
       "      <td>118</td>\n",
       "      <td>119</td>\n",
       "      <td>121</td>\n",
       "      <td>126</td>\n",
       "      <td>98</td>\n",
       "      <td>118</td>\n",
       "      <td>...</td>\n",
       "      <td>43</td>\n",
       "      <td>43</td>\n",
       "      <td>43</td>\n",
       "      <td>46</td>\n",
       "      <td>47</td>\n",
       "      <td>44</td>\n",
       "      <td>41</td>\n",
       "      <td>fisa_aula_mp4_176.jpg</td>\n",
       "      <td>fisa</td>\n",
       "      <td>aula</td>\n",
       "    </tr>\n",
       "  </tbody>\n",
       "</table>\n",
       "<p>5 rows × 12291 columns</p>\n",
       "</div>"
      ],
      "text/plain": [
       "       r0   r1   r2   r3   r4   r5   r6   r7   r8   r9   ...     b4089  b4090  \\\n",
       "2100  182  183  183  183  183  183  183  183  184  184   ...        26     26   \n",
       "2953  142  139  135  139  142  141  144  145  143  142   ...        40     43   \n",
       "4879  126  130  133  136  139  144  149  153  158  161   ...        22     22   \n",
       "315   137  138  138  139  139  139  140  141  142  142   ...         7      5   \n",
       "1466  107  111  112  115  118  119  121  126   98  118   ...        43     43   \n",
       "\n",
       "      b4091  b4092  b4093  b4094  b4095                       file   person  \\\n",
       "2100     27     27     32     33    113     fisa_pared_mp4_128.jpg     fisa   \n",
       "2953    104    136    135    142    145   gabi_cortina_mp4_076.jpg     gabi   \n",
       "4879     23     25     26     31     34  mariano_pared_mp4_528.jpg  mariano   \n",
       "315       6     11      7      7    145     ariel_aula_mp4_316.jpg    ariel   \n",
       "1466     43     46     47     44     41      fisa_aula_mp4_176.jpg     fisa   \n",
       "\n",
       "        place  \n",
       "2100    pared  \n",
       "2953  cortina  \n",
       "4879    pared  \n",
       "315      aula  \n",
       "1466     aula  \n",
       "\n",
       "[5 rows x 12291 columns]"
      ]
     },
     "execution_count": 4,
     "metadata": {},
     "output_type": "execute_result"
    }
   ],
   "source": [
    "data.sample(5)"
   ]
  },
  {
   "cell_type": "markdown",
   "metadata": {
    "deletable": true,
    "editable": true
   },
   "source": [
    "Y consultamos además qué etiquetas hay en general:"
   ]
  },
  {
   "cell_type": "code",
   "execution_count": 5,
   "metadata": {
    "collapsed": false,
    "deletable": true,
    "editable": true
   },
   "outputs": [
    {
     "data": {
      "text/plain": [
       "['ariel', 'fisa', 'gabi', 'mariano']"
      ]
     },
     "execution_count": 5,
     "metadata": {},
     "output_type": "execute_result"
    }
   ],
   "source": [
    "PERSONS = list(data.person.unique())\n",
    "PERSONS"
   ]
  },
  {
   "cell_type": "markdown",
   "metadata": {
    "deletable": true,
    "editable": true
   },
   "source": [
    "Esta función nos permite pasarle un conjunto de imagenes (filas de la tabla), y nos las dibuja. También admite usar varias columnas de la tabla como título para cada imagen."
   ]
  },
  {
   "cell_type": "code",
   "execution_count": 6,
   "metadata": {
    "collapsed": true,
    "deletable": true,
    "editable": true
   },
   "outputs": [],
   "source": [
    "def show_images(samples, title='file'):\n",
    "    for index, sample in samples.iterrows():\n",
    "        if title is not None:\n",
    "            if isinstance(title, str):\n",
    "                title = [title, ]\n",
    "            title_text = ', '.join(str(sample[title_field]) for title_field in title)\n",
    "            plt.title(title_text)\n",
    "\n",
    "        sample_as_grid = sample[INPUT_COLUMNS].values.reshape(len(CHANNELS), PICTURE_SIZE, PICTURE_SIZE).astype(np.float)\n",
    "        sample_as_grid = np.transpose(sample_as_grid, (1, 2, 0)) / 255\n",
    "        \n",
    "        plt.axis('off')\n",
    "        plt.imshow(sample_as_grid, interpolation='nearest')\n",
    "\n",
    "        plt.show()"
   ]
  },
  {
   "cell_type": "markdown",
   "metadata": {
    "deletable": true,
    "editable": true
   },
   "source": [
    "Mostramos algunas imágenes de ejemplo al azar. Pueden ustedes distinguir lo que hay en cada imagen? (si ejecutan esta celda muchas veces, van a ir viendo imágenes diferentes)."
   ]
  },
  {
   "cell_type": "code",
   "execution_count": 9,
   "metadata": {
    "collapsed": false,
    "deletable": true,
    "editable": true
   },
   "outputs": [
    {
     "data": {
      "image/png": "[encoded data removed]",
      "text/plain": [
       "<matplotlib.figure.Figure at 0x7f0e2fbabb38>"
      ]
     },
     "metadata": {},
     "output_type": "display_data"
    },
    {
     "data": {
      "image/png": "[encoded data removed]",
      "text/plain": [
       "<matplotlib.figure.Figure at 0x7f0e2fb4b908>"
      ]
     },
     "metadata": {},
     "output_type": "display_data"
    },
    {
     "data": {
      "image/png": "[encoded data removed]",
      "text/plain": [
       "<matplotlib.figure.Figure at 0x7f0e2fb86550>"
      ]
     },
     "metadata": {},
     "output_type": "display_data"
    },
    {
     "data": {
      "image/png": "[encoded data removed]",
      "text/plain": [
       "<matplotlib.figure.Figure at 0x7f0e2fad5400>"
      ]
     },
     "metadata": {},
     "output_type": "display_data"
    },
    {
     "data": {
      "image/png": "[encoded data removed]",
      "text/plain": [
       "<matplotlib.figure.Figure at 0x7f0e2fa99da0>"
      ]
     },
     "metadata": {},
     "output_type": "display_data"
    }
   ],
   "source": [
    "show_images(data.sample(5), 'person')"
   ]
  },
  {
   "cell_type": "markdown",
   "metadata": {
    "deletable": true,
    "editable": true
   },
   "source": [
    "Y finalmente, separamos los datos en dos conjuntos, vamos a utilizar uno para entrenar la red y el otro para testearla (y de esa forma asegurarnos de que no estamos sobreentrenando, evaluar cómo se va a comportar con casos que no usó para entrenar, etc).\n",
    "Para hacer esto nos vamos a valer del lugar dónde fue sacada la foto, es decir, vamos a construir nuestro conjunto de test a partir de las fotos que tienen como fondo la cortina."
   ]
  },
  {
   "cell_type": "code",
   "execution_count": null,
   "metadata": {
    "collapsed": true,
    "deletable": true,
    "editable": true
   },
   "outputs": [],
   "source": [
    "train = data[data.place != 'cortina'].copy()\n",
    "test = data[data.place == 'cortina'].copy()\n",
    "\n",
    "sets = (\n",
    "    ('train', train),\n",
    "    ('test', test),\n",
    ")\n",
    "\n",
    "for set_name, set_data in sets:\n",
    "    print('#' * 20, set_name, 'labels', '#' * 20)\n",
    "    print(set_data.person.value_counts())\n",
    "    print()"
   ]
  },
  {
   "cell_type": "markdown",
   "metadata": {
    "deletable": true,
    "editable": true
   },
   "source": [
    "Red neuronal\n",
    "============\n",
    "\n",
    "Estas funciones nos van a ser útiles para no repetir código cada vez que queramos obtener las columnas de entrada y las salidas, en el formato de arrays que la red neuronal espera."
   ]
  },
  {
   "cell_type": "code",
   "execution_count": null,
   "metadata": {
    "collapsed": true,
    "deletable": true,
    "editable": true
   },
   "outputs": [],
   "source": [
    "def extract_inputs(dataset):\n",
    "    \"\"\" Extrae del conjunto de datos original solo \n",
    "        las columnas que se deben utilizar como entrada. \n",
    "    \"\"\"\n",
    "    return dataset[INPUT_COLUMNS].values / 255\n",
    "\n",
    "\n",
    "def extract_outputs(dataset):\n",
    "    \"\"\" Extrae del conjunto de datos original solo la \n",
    "    columna que se debe utilizar como salida y retorna\n",
    "    tantas columnas como etiquetas distintas existan.\n",
    "    Por ejemplo, podríamos pensar que las columnas resultantes\n",
    "    serían: es_fisa, es_gabi, es_mariano.\n",
    "    \"\"\"\n",
    "    \n",
    "    is_person_columns = [(dataset.person == person).values for person in PERSONS]\n",
    "    return np.array(is_person_columns).T"
   ]
  },
  {
   "cell_type": "markdown",
   "metadata": {
    "deletable": true,
    "editable": true
   },
   "source": [
    "Y aquí es donde ustedes tienen que completar su entrega:"
   ]
  },
  {
   "cell_type": "code",
   "execution_count": null,
   "metadata": {
    "collapsed": true,
    "deletable": true,
    "editable": true
   },
   "outputs": [],
   "source": [
    "# Crear la red aquí\n",
    "model = None\n",
    "\n",
    "# Compilar la red aquí\n"
   ]
  },
  {
   "cell_type": "code",
   "execution_count": null,
   "metadata": {
    "collapsed": true,
    "deletable": true,
    "editable": true
   },
   "outputs": [],
   "source": [
    "# Entrenar la red aquí"
   ]
  },
  {
   "cell_type": "markdown",
   "metadata": {
    "deletable": true,
    "editable": true
   },
   "source": [
    "Una vez entrenada, pueden evaluar la performance de la red neuronal utilizando los dos conjuntos, con este fragmento de código.\n",
    "\n",
    "Deben lograr que **accuracy** en el conjunto de **test** llege a 70% (0.7) o más.\n",
    "\n",
    "Esta función nos va a ser útil para agrupar las predicciones y poder comparar."
   ]
  },
  {
   "cell_type": "code",
   "execution_count": null,
   "metadata": {
    "collapsed": true,
    "deletable": true,
    "editable": true
   },
   "outputs": [],
   "source": [
    "def add_predictions(dataset):\n",
    "    predictions = model.predict(extract_inputs(dataset))\n",
    "    for person_number, person in enumerate(PERSONS):\n",
    "        dataset[person] = predictions[:, person_number]\n",
    "    \n",
    "    dataset['prediction'] = dataset[PERSONS].idxmax(axis=1)\n",
    "    dataset['correct'] = dataset.prediction == dataset.person"
   ]
  },
  {
   "cell_type": "code",
   "execution_count": null,
   "metadata": {
    "collapsed": true,
    "deletable": true,
    "editable": true
   },
   "outputs": [],
   "source": [
    "for set_name, set_data in sets:\n",
    "    add_predictions(set_data)\n",
    "    \n",
    "    print('#' * 25, set_name, '#' * 25)\n",
    "    print('accuracy', accuracy_score(set_data.person, set_data.prediction))\n",
    "    print(classification_report(set_data.person, set_data.prediction))"
   ]
  },
  {
   "cell_type": "markdown",
   "metadata": {
    "deletable": true,
    "editable": true
   },
   "source": [
    "Finalmente, podemos mostrar algunos ejemplos del conjunto de test para evaluar cómo le fue (las predicciones fueron agregadas en el paso anterior, al llamar a ``add_predictions``).\n",
    "\n",
    "El título en cada imagen indica el nombre de la persona en la foto seguido de la predicción que hizo la red.\n",
    "\n",
    "Mostramos primero algunos que hayan sido bien clasificados, y luego otros que hayan sido mal clasificados."
   ]
  },
  {
   "cell_type": "code",
   "execution_count": null,
   "metadata": {
    "collapsed": true,
    "deletable": true,
    "editable": true,
    "scrolled": false
   },
   "outputs": [],
   "source": [
    "show_images(test[test.person == test.prediction].sample(10), title=['person', 'prediction'])"
   ]
  },
  {
   "cell_type": "code",
   "execution_count": null,
   "metadata": {
    "collapsed": true,
    "deletable": true,
    "editable": true
   },
   "outputs": [],
   "source": [
    "show_images(test[test.person != test.prediction].sample(10), title=['person', 'prediction'])"
   ]
  }
 ],
 "metadata": {
  "kernelspec": {
   "display_name": "Python 3",
   "language": "python",
   "name": "python3"
  },
  "language_info": {
   "codemirror_mode": {
    "name": "ipython",
    "version": 3
   },
   "file_extension": ".py",
   "mimetype": "text/x-python",
   "name": "python",
   "nbconvert_exporter": "python",
   "pygments_lexer": "ipython3",
   "version": "3.5.2+"
  }
 },
 "nbformat": 4,
 "nbformat_minor": 2
}
